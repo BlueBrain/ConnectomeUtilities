{
 "cells": [
  {
   "cell_type": "markdown",
   "id": "372eef3f-7c8b-484b-8add-ad1ced0b6287",
   "metadata": {},
   "source": [
    "# Inhibitory specificity\n",
    "In this notebook we perform some analyses inspired by:\n",
    "Schneider-Mizell et al., 2023. Cell-type-specific inhibitory circuitry from a connectomic census of mouse visual cortex. (https://www.biorxiv.org/content/10.1101/2023.01.23.525290v2.abstract)\n",
    "\n",
    "That is, we analyze the targeting of inhibitory connections of the MICrONS cortical mm3 data (https://www.microns-explorer.org/cortical-mm3)\n",
    "\n",
    "Note: Since this is just a demonstration, it is much more primitive than the actual analyses in the preprint!"
   ]
  },
  {
   "cell_type": "markdown",
   "id": "950ce649-95f4-4ac6-89e2-1a901c81fe57",
   "metadata": {},
   "source": [
    "### Requirements\n",
    "To run this, you will need to download our Connectome-utilities version of the MICrONS mm3 connectome.\n",
    "You can find it on Zenodo: \n",
    "\n",
    "> https://zenodo.org/record/8364070/files/microns_mm3_connectome.h5\n",
    "\n",
    "Place the file under the path indicated below.\n",
    "\n",
    "There are three inhibitory types classified in the data: BC, MC and NGC.\n",
    "Other variables will be a cutoff for distances of synapses from the postsynaptic soma. Values below that value will indicate \"proximal\" innervation. And the x and z interval of a central subvolume to analyze. That is, we limit the analysis to neurons in an axis-aligned bounding box (300 x 300 um)."
   ]
  },
  {
   "cell_type": "code",
   "execution_count": 39,
   "id": "54a32eb3-c881-463a-8432-b983ca16ae61",
   "metadata": {},
   "outputs": [],
   "source": [
    "import numpy\n",
    "import pandas\n",
    "import conntility\n",
    "\n",
    "fn = \"./microns_mm3_connectome.h5\"\n",
    "\n",
    "M = conntility.ConnectivityMatrix.from_h5(fn, \"full\")\n",
    "\n",
    "inh_types = [\"BC\", \"MC\", \"NGC\"]\n",
    "cutoff_proximal = 100\n",
    "interval_z = [700000, 1000000]\n",
    "interval_x = [650000, 950000]"
   ]
  },
  {
   "cell_type": "markdown",
   "id": "cf539fca-312a-4cc3-af4a-0f1b01376647",
   "metadata": {},
   "source": [
    "The next cell limits the data to the bounding box of interest. 10605 neurons remain."
   ]
  },
  {
   "cell_type": "code",
   "execution_count": 40,
   "id": "16213e53-e5ef-4612-b4b1-bc4d82f45d37",
   "metadata": {},
   "outputs": [
    {
     "name": "stdout",
     "output_type": "stream",
     "text": [
      "10605\n"
     ]
    }
   ],
   "source": [
    "M = M.index(\"x_nm\").gt(interval_x[0]).index(\"x_nm\").lt(interval_x[1]).index(\"z_nm\").gt(interval_z[0]).index(\"z_nm\").lt(interval_z[1])\n",
    "print(len(M.vertices))"
   ]
  },
  {
   "cell_type": "markdown",
   "id": "257babfe-9aff-4a0d-b9f3-6d7dde764214",
   "metadata": {},
   "source": [
    "### Out-degree\n",
    "As a baseline of innervation, we calculate the outdegree of each neuron.\n",
    "Note that the neurons in this dataset are already associated with their in- and out-degree. But here we want only the degrees from connections insider the subvolume we defined."
   ]
  },
  {
   "cell_type": "code",
   "execution_count": 41,
   "id": "509a4762-9f1e-4046-9695-4faf7355f6da",
   "metadata": {},
   "outputs": [],
   "source": [
    "M.add_vertex_property(\"internal_outdegree\",\n",
    "                      numpy.array(M.compress().matrix.sum(axis=1))[:, 0])"
   ]
  },
  {
   "cell_type": "markdown",
   "id": "799d69c6-68ff-4807-842b-ea15b1996904",
   "metadata": {},
   "source": [
    "### Fraction of proximal synapses\n",
    "For each neuron, we consider its efferent synapses. Then calculate the fraction of them that are proximal according to the cutoff defined above. Note that this will also include synapses on the soma, and does not distinguish between basal and apical dendrites, unlike Schneider-Mizell et al.\n",
    "\n",
    "Later, we will limit our analysis to only inhibitory neuron types, but since this calculation is so cheap, we might as well run it for all neurons."
   ]
  },
  {
   "cell_type": "code",
   "execution_count": 81,
   "id": "0ebaf89f-b3ff-4d3a-abb3-95840e7d40eb",
   "metadata": {},
   "outputs": [],
   "source": [
    "# Step 1: For each synapse: is it proximal?\n",
    "M.add_edge_property(\"is_proximal\", M.edges[\"soma_offset_um\"].values < cutoff_proximal)\n",
    "C = M.compress({ # Step 2: For each neuron pair: Number of synapses between them that are proximal\n",
    "    \"count_proximal\": (\"is_proximal\", \"sum\")\n",
    "}).default(\"count_proximal\")\n",
    "# Step 3: Sum over connections of a neuron, divided by the total degree gives us a fraction.\n",
    "M.add_vertex_property(\"frac_proximal\", numpy.array(C.matrix.sum(axis=1))[:, 0] / C.vertices[\"internal_outdegree\"].values)"
   ]
  },
  {
   "cell_type": "markdown",
   "id": "63933ef5-e634-49fc-a0fb-65c919450a13",
   "metadata": {},
   "source": [
    "### Fraction of synapses on inhibitory types\n",
    "Similar to the above, but for innervation of inhibitory types. Once again, we run it for all types, because it is so cheap."
   ]
  },
  {
   "cell_type": "code",
   "execution_count": null,
   "id": "47bbae19-80df-42ef-89a0-350054a2e708",
   "metadata": {},
   "outputs": [],
   "source": [
    "M.add_edge_property(\"is_inh\", M.edge_associated_vertex_properties(\"cell_type\")[\"col\"].isin(inh_types).values)\n",
    "C = M.compress({\n",
    "    \"count_inhibitory\": (\"is_inh\", \"sum\")\n",
    "}).default(\"count_inhibitory\")\n",
    "M.add_vertex_property(\"frac_inh\", numpy.array(C.matrix.sum(axis=1))[:, 0] / C.vertices[\"internal_outdegree\"].values)"
   ]
  },
  {
   "cell_type": "markdown",
   "id": "238598ed-8d88-472d-9ba7-c5f084c0b08f",
   "metadata": {},
   "source": [
    "### Fraction of connections that are multi-synaptic\n",
    "For this one we generate a sparse matrix of synapses per connection. Then divide the count of connections where the value is > 1 by the count of connections (we could also use the \"internal_outdegree\" property for the second part)."
   ]
  },
  {
   "cell_type": "code",
   "execution_count": 44,
   "id": "417fe76f-f5d2-43e4-a5d7-bb6728de6bc7",
   "metadata": {},
   "outputs": [
    {
     "name": "stderr",
     "output_type": "stream",
     "text": [
      "/tmp/ipykernel_16274/3085460659.py:2: RuntimeWarning: invalid value encountered in divide\n",
      "  M.add_vertex_property(\"frac_multi\", numpy.array((mat > 1).sum(axis=1) / (mat > 0).sum(axis=1))[:, 0])\n"
     ]
    }
   ],
   "source": [
    "mat = C.default(\"count\").matrix\n",
    "M.add_vertex_property(\"frac_multi\", numpy.array((mat > 1).sum(axis=1) / (mat > 0).sum(axis=1))[:, 0])"
   ]
  },
  {
   "cell_type": "markdown",
   "id": "59310d05-4f8c-414e-bcb0-a71c301333f8",
   "metadata": {},
   "source": [
    "### Fraction of synapses that are \"clumped\"\n",
    "Synapses are considered \"clumped\" if they are within 15 um of a synapse of the same connection (i.e. between the same pair of neurons).\n",
    "This analysis is a bit more expensive, so we run it only for the inhibitory types we are interested in. "
   ]
  },
  {
   "cell_type": "code",
   "execution_count": 82,
   "id": "da765cbd-1813-4255-ab10-085dc5babb86",
   "metadata": {},
   "outputs": [],
   "source": [
    "from scipy.spatial import distance\n",
    "\n",
    "# We use the following edge properties to calculate distances between synapses. These are their locations relative to the postsynaptic soma.\n",
    "cols_loc = [\"delta_x_nm\", \"delta_y_nm\", \"delta_z_nm\"]\n",
    "\n",
    "# Assemble all the data we need into a single dataframe\n",
    "df = pandas.concat([M._edge_indices.reset_index(drop=True), # Indices of pre- and post-neuron. To group synapses together by connection \n",
    "                    M.edges[cols_loc].reset_index(drop=True), # Their locations. See above.\n",
    "                    M.edge_associated_vertex_properties(\"cell_type\")[\"row\"].rename(\"pre_type\")], # Cell types of pre-synaptic neurons.\n",
    "                   axis=1)\n",
    "\n",
    "# We use the cell type of the presynaptic neuron to filter for our inhibitory population of interest.\n",
    "inh_df = df.loc[df[\"pre_type\"].isin(inh_types)]"
   ]
  },
  {
   "cell_type": "code",
   "execution_count": 67,
   "id": "bec553e0-cd38-401d-ae6a-822ce117ae15",
   "metadata": {},
   "outputs": [],
   "source": [
    "# A function that calculates the number of clumped synapses in a connection from a dataframe of locations\n",
    "def count_clumped(subdf, cutoff=15000):\n",
    "    D = distance.squareform(distance.pdist(subdf[cols_loc]))\n",
    "    return numpy.any((D < cutoff) & (D > 0), axis=0).sum()\n",
    "\n",
    "# Group and apply. This takes a while.\n",
    "sum_clumped = inh_df.groupby([\"row\", \"col\"]).apply(count_clumped)"
   ]
  },
  {
   "cell_type": "markdown",
   "id": "9de921da-7870-42f1-86bc-8e45a95fa5cc",
   "metadata": {},
   "source": [
    "The result is a dataframe with the count of clumped synapses, indexed by connection. We sum the result over presynaptic neurons and then divide by their total degree. Alternatively, we divide by the total degree in multi-synaptic connections. That analysis might be more meaningful, because a single-synaptic connection cannot be \"clumped\" by definition."
   ]
  },
  {
   "cell_type": "code",
   "execution_count": 70,
   "id": "888d1920-becd-4893-b622-bd852ff17adc",
   "metadata": {},
   "outputs": [
    {
     "name": "stderr",
     "output_type": "stream",
     "text": [
      "/tmp/ipykernel_16274/402842692.py:4: RuntimeWarning: invalid value encountered in divide\n",
      "  per_neuron_clumped.values / numpy.array(mat.sum(axis=1) - (mat == 1).sum(axis=1))[:, 0])\n"
     ]
    }
   ],
   "source": [
    "per_neuron_clumped = sum_clumped.groupby(\"row\").sum().reindex(range(len(M.vertices)))\n",
    "M.add_vertex_property(\"frac_clumped\", per_neuron_clumped.values / M.vertices[\"internal_outdegree\"].values)\n",
    "M.add_vertex_property(\"frac_multi_clumped\",\n",
    "                      per_neuron_clumped.values / numpy.array(mat.sum(axis=1) - (mat == 1).sum(axis=1))[:, 0])"
   ]
  },
  {
   "cell_type": "markdown",
   "id": "43d4d840-9268-4970-885b-8e0831a7013c",
   "metadata": {},
   "source": [
    "Schneider-Mizell et al. used many additional parameters and clustered the results into classes.\n",
    "Here, we simply plot the results for each of the inhibitory classes. We can then see if some of the observed trends are at least partially recreated."
   ]
  },
  {
   "cell_type": "code",
   "execution_count": 95,
   "id": "e271a804-ecf6-438b-b621-393ec4ce4c7b",
   "metadata": {},
   "outputs": [
    {
     "data": {
      "image/png": "[encoded data removed]",
      "text/plain": [
       "<Figure size 1000x300 with 5 Axes>"
      ]
     },
     "metadata": {},
     "output_type": "display_data"
    }
   ],
   "source": [
    "from matplotlib import pyplot as plt\n",
    "\n",
    "cols_of_interest = [\"frac_proximal\", \"frac_inh\", \"frac_multi\", \"frac_clumped\", \"frac_multi_clumped\"]\n",
    "df = M.vertices.set_index(\"cell_type\").loc[inh_types][cols_of_interest].dropna(axis=0, how=\"all\")\n",
    "\n",
    "fig = plt.figure(figsize=(10, 3))\n",
    "# ax = fig.gca()\n",
    "\n",
    "for i, col in enumerate(df.columns):\n",
    "    plotme = df[col].groupby(\"cell_type\").apply(lambda _x: list(_x[~numpy.isnan(_x)]))\n",
    "    ax = fig.add_subplot(1, len(df.columns), i + 1)\n",
    "    ax.boxplot(plotme.values, #positions=numpy.linspace(-0.25, 0.25, len(inh_types)) + i,\n",
    "              sym='.', labels=plotme.index)\n",
    "    ax.set_title(col)\n",
    "    ax.set_ylim([-0.05, 1.05])\n",
    "    if i > 0: ax.set_yticklabels([])\n",
    "    ax.set_frame_on(False)\n"
   ]
  },
  {
   "cell_type": "markdown",
   "id": "e06d003a-3e13-4033-aafe-815a11668ec7",
   "metadata": {},
   "source": [
    "Schneider-Mizell et al. found a proximally targeting type and identified it as mostly BCs. Here, we find that the fraction of proximal synapses is largest for BCs.\n",
    "\n",
    "Schneider-Mizell et al. found a sparsely (i.e. non-multi-synaptic) targeting class and identified it as NGCs and L1 neurons. Here, we find that the fraction of multi-synaptic connections is lowest for NGCs. \n",
    "\n",
    "Schneider-Mizell et al. found an inhibitory targeting class and identified it as VIP-positive neurons. There is no corresponding class in this dataset, but we note the presence of many outliers in the \"fraction inhibitory\" metric. In the next cell we will look at them more closely.\n",
    "\n",
    "What surprises me is that the fraction proximal for (tentative) MCs is so high. This comprises in this analysis synapses on proximal dendrites and somata. Still, the value for MCs should be below 50%."
   ]
  },
  {
   "cell_type": "markdown",
   "id": "51bcc5e4-ec00-4f0e-a148-68972c422529",
   "metadata": {},
   "source": [
    "Finding \"inhibitory targeting\" neurons. We consider every neuron more than 2 standard deviations over the median value."
   ]
  },
  {
   "cell_type": "code",
   "execution_count": 92,
   "id": "3bbd719e-ba4a-434c-9286-06422ebbf003",
   "metadata": {},
   "outputs": [
    {
     "data": {
      "text/plain": [
       "cell_type\n",
       "BC     37\n",
       "MC     34\n",
       "NGC     9\n",
       "Name: count, dtype: int64"
      ]
     },
     "metadata": {},
     "output_type": "display_data"
    },
    {
     "data": {
      "text/plain": [
       "8.130081300813007"
      ]
     },
     "metadata": {},
     "output_type": "display_data"
    }
   ],
   "source": [
    "cutoff = df[\"frac_inh\"].median() + 2 * df[\"frac_inh\"].std()\n",
    "display(df.loc[df[\"frac_inh\"] >= cutoff].reset_index()[\"cell_type\"].value_counts())\n",
    "display(100 * (df[\"frac_inh\"] >= cutoff).mean()) "
   ]
  },
  {
   "cell_type": "markdown",
   "id": "06ba5597-301e-4b12-8db0-d48e547affa5",
   "metadata": {},
   "source": [
    "We find that they are classified here as mostly  MC and BC. Also they make up around 8% of the population. Somewhat comparable to the reference, where it's 12% of the population."
   ]
  }
 ],
 "metadata": {
  "kernelspec": {
   "display_name": "Python 3 (ipykernel)",
   "language": "python",
   "name": "python3"
  },
  "language_info": {
   "codemirror_mode": {
    "name": "ipython",
    "version": 3
   },
   "file_extension": ".py",
   "mimetype": "text/x-python",
   "name": "python",
   "nbconvert_exporter": "python",
   "pygments_lexer": "ipython3",
   "version": "3.8.10"
  }
 },
 "nbformat": 4,
 "nbformat_minor": 5
}
