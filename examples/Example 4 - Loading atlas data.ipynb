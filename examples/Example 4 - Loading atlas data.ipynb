{
 "cells": [
  {
   "cell_type": "markdown",
   "id": "96ed837e",
   "metadata": {},
   "source": [
    "# Loading atlas data\n",
    "\n",
    "This demonstrates the ability of Connectome Utilities to contextualize a network with information from a voxel atlas.\n",
    "In this example we have a voxel atlas where individual voxels are annotated with identifiers of subregions. \n",
    "\n",
    "We use this information to extract connectivity strengths between the individual subregions, i.e. the number of connections between nodes where the source node is placed in one given subregion and the target node in another. Subregions of nodes are determined based on their locations in a coordinate system, which is then looked up in the voxel atlas.\n"
   ]
  },
  {
   "cell_type": "markdown",
   "id": "3f08ce7d",
   "metadata": {},
   "source": [
    "We begin by loading a circuit"
   ]
  },
  {
   "cell_type": "code",
   "execution_count": 1,
   "id": "21ed2159",
   "metadata": {},
   "outputs": [],
   "source": [
    "import pandas\n",
    "import numpy\n",
    "import bluepysnap as snap\n",
    "\n",
    "# !!!!!!!!!!!!!!!!!!!!!!!!!!!!!!!!!!!!!!!!!\n",
    "# Set the path below to the SONATA \"circuit_config.json\"\n",
    "# contained in the archive of our SSCx model, downloadable from https://zenodo.org/record/7930276\n",
    "circ_fn = \"path/to/circuit_config.json\"\n",
    "# !!!!!!!!!!!!!!!!!!!!!!!!!!!!!!!!!!!!!!!!!\n",
    "\n",
    "column_prop_fn = \"./data/voxel-based-hex-grid-info-with-conicality.h5\"\n",
    "\n",
    "circ = snap.Circuit(circ_fn)\n",
    "col_props = pandas.read_hdf(column_prop_fn, \"grid-info\").set_index(\"nrrd-file-id\")"
   ]
  },
  {
   "cell_type": "markdown",
   "id": "2cd50822",
   "metadata": {},
   "source": [
    "New we load basic information about nodes into a DataFrame.\n",
    "To that end, we first write a \"loader_config\". It specifies the following:\n",
    " - Which neurons to load and which of their properties. For this specific example, we include an \"atlas\" entry that loads for each node the associated property in the atlas.\n",
    " - Which filter to apply. In this example, we focus on \"layer==4\" connectivity only\n",
    " - How to group the neurons into different classes. Here, we use the property we looked up from the atlas to determine groups.\n",
    " "
   ]
  },
  {
   "cell_type": "code",
   "execution_count": 2,
   "id": "3fadd474",
   "metadata": {},
   "outputs": [
    {
     "data": {
      "text/html": [
       "<div>\n",
       "<style scoped>\n",
       "    .dataframe tbody tr th:only-of-type {\n",
       "        vertical-align: middle;\n",
       "    }\n",
       "\n",
       "    .dataframe tbody tr th {\n",
       "        vertical-align: top;\n",
       "    }\n",
       "\n",
       "    .dataframe thead th {\n",
       "        text-align: right;\n",
       "    }\n",
       "</style>\n",
       "<table border=\"1\" class=\"dataframe\">\n",
       "  <thead>\n",
       "    <tr style=\"text-align: right;\">\n",
       "      <th></th>\n",
       "      <th>node_ids</th>\n",
       "      <th>etype</th>\n",
       "      <th>layer</th>\n",
       "      <th>mtype</th>\n",
       "      <th>synapse_class</th>\n",
       "      <th>x</th>\n",
       "      <th>y</th>\n",
       "      <th>z</th>\n",
       "      <th>column_id</th>\n",
       "    </tr>\n",
       "    <tr>\n",
       "      <th>idx-column_id</th>\n",
       "      <th></th>\n",
       "      <th></th>\n",
       "      <th></th>\n",
       "      <th></th>\n",
       "      <th></th>\n",
       "      <th></th>\n",
       "      <th></th>\n",
       "      <th></th>\n",
       "      <th></th>\n",
       "    </tr>\n",
       "  </thead>\n",
       "  <tbody>\n",
       "    <tr>\n",
       "      <th>59</th>\n",
       "      <td>123440</td>\n",
       "      <td>cADpyr</td>\n",
       "      <td>4</td>\n",
       "      <td>L4_TPC</td>\n",
       "      <td>EXC</td>\n",
       "      <td>3639.910323</td>\n",
       "      <td>-1559.350538</td>\n",
       "      <td>-1869.525788</td>\n",
       "      <td>59</td>\n",
       "    </tr>\n",
       "    <tr>\n",
       "      <th>59</th>\n",
       "      <td>134673</td>\n",
       "      <td>cADpyr</td>\n",
       "      <td>4</td>\n",
       "      <td>L4_TPC</td>\n",
       "      <td>EXC</td>\n",
       "      <td>3679.722575</td>\n",
       "      <td>-1580.563802</td>\n",
       "      <td>-1917.387064</td>\n",
       "      <td>59</td>\n",
       "    </tr>\n",
       "    <tr>\n",
       "      <th>59</th>\n",
       "      <td>110895</td>\n",
       "      <td>cADpyr</td>\n",
       "      <td>4</td>\n",
       "      <td>L4_UPC</td>\n",
       "      <td>EXC</td>\n",
       "      <td>3766.500775</td>\n",
       "      <td>-1637.219184</td>\n",
       "      <td>-1901.112049</td>\n",
       "      <td>59</td>\n",
       "    </tr>\n",
       "    <tr>\n",
       "      <th>59</th>\n",
       "      <td>140404</td>\n",
       "      <td>cADpyr</td>\n",
       "      <td>4</td>\n",
       "      <td>L4_SSC</td>\n",
       "      <td>EXC</td>\n",
       "      <td>3681.246502</td>\n",
       "      <td>-1565.979252</td>\n",
       "      <td>-1925.685275</td>\n",
       "      <td>59</td>\n",
       "    </tr>\n",
       "    <tr>\n",
       "      <th>59</th>\n",
       "      <td>115141</td>\n",
       "      <td>cADpyr</td>\n",
       "      <td>4</td>\n",
       "      <td>L4_UPC</td>\n",
       "      <td>EXC</td>\n",
       "      <td>3637.771209</td>\n",
       "      <td>-1646.239775</td>\n",
       "      <td>-2006.704349</td>\n",
       "      <td>59</td>\n",
       "    </tr>\n",
       "    <tr>\n",
       "      <th>...</th>\n",
       "      <td>...</td>\n",
       "      <td>...</td>\n",
       "      <td>...</td>\n",
       "      <td>...</td>\n",
       "      <td>...</td>\n",
       "      <td>...</td>\n",
       "      <td>...</td>\n",
       "      <td>...</td>\n",
       "      <td>...</td>\n",
       "    </tr>\n",
       "    <tr>\n",
       "      <th>135</th>\n",
       "      <td>122957</td>\n",
       "      <td>cADpyr</td>\n",
       "      <td>4</td>\n",
       "      <td>L4_TPC</td>\n",
       "      <td>EXC</td>\n",
       "      <td>4532.467350</td>\n",
       "      <td>-1034.359545</td>\n",
       "      <td>-2600.513213</td>\n",
       "      <td>135</td>\n",
       "    </tr>\n",
       "    <tr>\n",
       "      <th>135</th>\n",
       "      <td>123013</td>\n",
       "      <td>cADpyr</td>\n",
       "      <td>4</td>\n",
       "      <td>L4_TPC</td>\n",
       "      <td>EXC</td>\n",
       "      <td>4525.424803</td>\n",
       "      <td>-943.066338</td>\n",
       "      <td>-2537.523927</td>\n",
       "      <td>135</td>\n",
       "    </tr>\n",
       "    <tr>\n",
       "      <th>135</th>\n",
       "      <td>123008</td>\n",
       "      <td>cADpyr</td>\n",
       "      <td>4</td>\n",
       "      <td>L4_TPC</td>\n",
       "      <td>EXC</td>\n",
       "      <td>4581.603906</td>\n",
       "      <td>-1061.946763</td>\n",
       "      <td>-2614.390856</td>\n",
       "      <td>135</td>\n",
       "    </tr>\n",
       "    <tr>\n",
       "      <th>135</th>\n",
       "      <td>123007</td>\n",
       "      <td>cADpyr</td>\n",
       "      <td>4</td>\n",
       "      <td>L4_TPC</td>\n",
       "      <td>EXC</td>\n",
       "      <td>4580.036002</td>\n",
       "      <td>-1013.162054</td>\n",
       "      <td>-2533.740869</td>\n",
       "      <td>135</td>\n",
       "    </tr>\n",
       "    <tr>\n",
       "      <th>135</th>\n",
       "      <td>138104</td>\n",
       "      <td>cADpyr</td>\n",
       "      <td>4</td>\n",
       "      <td>L4_TPC</td>\n",
       "      <td>EXC</td>\n",
       "      <td>4547.534887</td>\n",
       "      <td>-1091.773443</td>\n",
       "      <td>-2570.286617</td>\n",
       "      <td>135</td>\n",
       "    </tr>\n",
       "  </tbody>\n",
       "</table>\n",
       "<p>34263 rows × 9 columns</p>\n",
       "</div>"
      ],
      "text/plain": [
       "               node_ids   etype  layer   mtype synapse_class            x   \n",
       "idx-column_id                                                               \n",
       "59               123440  cADpyr      4  L4_TPC           EXC  3639.910323  \\\n",
       "59               134673  cADpyr      4  L4_TPC           EXC  3679.722575   \n",
       "59               110895  cADpyr      4  L4_UPC           EXC  3766.500775   \n",
       "59               140404  cADpyr      4  L4_SSC           EXC  3681.246502   \n",
       "59               115141  cADpyr      4  L4_UPC           EXC  3637.771209   \n",
       "...                 ...     ...    ...     ...           ...          ...   \n",
       "135              122957  cADpyr      4  L4_TPC           EXC  4532.467350   \n",
       "135              123013  cADpyr      4  L4_TPC           EXC  4525.424803   \n",
       "135              123008  cADpyr      4  L4_TPC           EXC  4581.603906   \n",
       "135              123007  cADpyr      4  L4_TPC           EXC  4580.036002   \n",
       "135              138104  cADpyr      4  L4_TPC           EXC  4547.534887   \n",
       "\n",
       "                         y            z  column_id  \n",
       "idx-column_id                                       \n",
       "59            -1559.350538 -1869.525788         59  \n",
       "59            -1580.563802 -1917.387064         59  \n",
       "59            -1637.219184 -1901.112049         59  \n",
       "59            -1565.979252 -1925.685275         59  \n",
       "59            -1646.239775 -2006.704349         59  \n",
       "...                    ...          ...        ...  \n",
       "135           -1034.359545 -2600.513213        135  \n",
       "135            -943.066338 -2537.523927        135  \n",
       "135           -1061.946763 -2614.390856        135  \n",
       "135           -1013.162054 -2533.740869        135  \n",
       "135           -1091.773443 -2570.286617        135  \n",
       "\n",
       "[34263 rows x 9 columns]"
      ]
     },
     "metadata": {},
     "output_type": "display_data"
    }
   ],
   "source": [
    "from conntility.circuit_models import neuron_groups\n",
    "\n",
    "loader_config = {\n",
    "    \"loading\": {\n",
    "        \"base_target\": \"Mosaic\", \n",
    "        \"node_population\": \"S1nonbarrel_neurons\",\n",
    "        \"properties\": [\"x\", \"y\", \"z\", \"etype\", \"mtype\", \"layer\", \"synapse_class\"],\n",
    "        \"atlas\": [\n",
    "            {\"data\": \"./data/column_identities.nrrd\",\n",
    "             \"properties\": [\"column_id\"]}\n",
    "        ]\n",
    "    },\n",
    "    \"filtering\":[\n",
    "        {\n",
    "            \"column\": \"layer\",\n",
    "            \"value\": 4\n",
    "        }\n",
    "    ],\n",
    "    \"grouping\": [\n",
    "        {\n",
    "            \"method\": \"group_by_properties\",\n",
    "            \"columns\": [\"column_id\"]\n",
    "        }\n",
    "    ]\n",
    "}\n",
    "\n",
    "\n",
    "base_grp = neuron_groups.load_group_filter(circ, loader_config)\n",
    "\n",
    "display(base_grp)\n",
    "# NOTE: column_id 0 indicates a node is NOT MEMBER OF ANY COLUMN!"
   ]
  },
  {
   "cell_type": "markdown",
   "id": "95f71b8e",
   "metadata": {},
   "source": [
    "\"column_id\" is the property we loaded from the atlas. It is also used as the index of the DataFrame, which determines the grouping."
   ]
  },
  {
   "cell_type": "markdown",
   "id": "99199da4",
   "metadata": {},
   "source": [
    "#### From here on this example is similar to Example 5.\n",
    "The biggest difference is, in Example 5 you will see how you can define equivalent groups directly within Connectome Utilities instead of pre-calculating them in an atlas. Also, in Example 5 we use smaller columns. Finally, in Example 5 we see a different approach of first loading connectivity at the neuronal resolution, then reducing the resolution\n",
    "\n",
    "\n",
    "We use the following to load the matrix of connections _between_ the defined groups.\n",
    "(Note: There are different functions available for loading connections within groups).\n",
    "\n",
    "Here, we load the midrange connection count. We could also load local connectivity."
   ]
  },
  {
   "cell_type": "code",
   "execution_count": 3,
   "id": "1979d749",
   "metadata": {},
   "outputs": [
    {
     "name": "stderr",
     "output_type": "stream",
     "text": [
      "Counting...: 100%|██████████| 1/1 [00:01<00:00,  1.07s/it]\n"
     ]
    }
   ],
   "source": [
    "from conntility import circuit_models\n",
    "\n",
    "M = circuit_models.circuit_matrix_between_groups(circ, base_grp, connectome=\"midrange__S1nonbarrel_neurons__chemical\",\n",
    "                                                 population=\"midrange__S1nonbarrel_neurons__chemical\", extract_full=True)\n",
    "M.index = pandas.MultiIndex.from_frame(M.index.to_frame().applymap(int))"
   ]
  },
  {
   "cell_type": "markdown",
   "id": "80553cec",
   "metadata": {},
   "source": [
    "The result is a pandas.Series with connection counts between groups. Indexed by the name of the source / target groups."
   ]
  },
  {
   "cell_type": "code",
   "execution_count": 4,
   "id": "924ff5d3",
   "metadata": {},
   "outputs": [
    {
     "data": {
      "text/plain": [
       "Source node  Target node\n",
       "118          59             9287.0\n",
       "99           59             8642.0\n",
       "118          62             8311.0\n",
       "99           83             4806.0\n",
       "118          83             4579.0\n",
       "99           62             1827.0\n",
       "106          59             1216.0\n",
       "             83              637.0\n",
       "99           72              372.0\n",
       "106          62              252.0\n",
       "59           118             168.0\n",
       "             99              112.0\n",
       "118          84               74.0\n",
       "             72               67.0\n",
       "106          72               43.0\n",
       "87           83               40.0\n",
       "62           118              38.0\n",
       "99           99               31.0\n",
       "87           59               30.0\n",
       "99           84               12.0\n",
       "118          63               11.0\n",
       "87           72               10.0\n",
       "62           99                8.0\n",
       "59           100               8.0\n",
       "62           100               5.0\n",
       "87           99                5.0\n",
       "99           87                4.0\n",
       "118          103               3.0\n",
       "135          84                2.0\n",
       "106          99                2.0\n",
       "99           118               2.0\n",
       "118          100               1.0\n",
       "106          84                1.0\n",
       "59           106               1.0\n",
       "118          118               1.0\n",
       "83           118               1.0\n",
       "99           100               1.0\n",
       "83           99                1.0\n",
       "87           87                1.0\n",
       "106          100               1.0\n",
       "dtype: float64"
      ]
     },
     "metadata": {},
     "output_type": "display_data"
    }
   ],
   "source": [
    "valid = M.index.to_frame().applymap(lambda x: x > 0).all(axis=1) # remove entries not associated with a column (0)\n",
    "M = M.loc[valid]\n",
    "display(M)"
   ]
  },
  {
   "cell_type": "markdown",
   "id": "eef82b81",
   "metadata": {},
   "source": [
    "We do some re-indexing to turn the output into a ConnectivityMatrix.\n",
    "\n",
    "First, the current indices of source and target nodes cover a wide range of intege values. We convert them to cover intergers from 0 to N-1 instead. The result is put into a DataFrame with columns \"row\", and \"col\".\n",
    "\n",
    "Next, we look up additional properties associated with the populations of the nodes in the \"col_props\" DataFrame."
   ]
  },
  {
   "cell_type": "code",
   "execution_count": 5,
   "id": "8145b132",
   "metadata": {},
   "outputs": [],
   "source": [
    "from conntility import ConnectivityMatrix\n",
    "\n",
    "srt_idx = sorted(numpy.unique(M.index.to_frame().values))\n",
    "con_idx = M.index.to_frame().applymap(lambda _x: srt_idx.index(_x)).reset_index(drop=True)\n",
    "con_idx = con_idx.rename(columns={\"Source node\": \"row\", \"Target node\": \"col\"})\n",
    "v_props = col_props.loc[srt_idx]\n",
    "\n",
    "C = ConnectivityMatrix(con_idx, vertex_properties=v_props,\n",
    "                       edge_properties=M.reset_index(drop=True), # edge weights\n",
    "                       shape=(len(srt_idx), len(srt_idx)))"
   ]
  },
  {
   "cell_type": "markdown",
   "id": "9ee8f621",
   "metadata": {},
   "source": [
    "We can plot the connectivity matrix"
   ]
  },
  {
   "cell_type": "code",
   "execution_count": 6,
   "id": "fb351961",
   "metadata": {},
   "outputs": [
    {
     "data": {
      "text/plain": [
       "<matplotlib.image.AxesImage at 0x2aaaf0e6a620>"
      ]
     },
     "execution_count": 6,
     "metadata": {},
     "output_type": "execute_result"
    },
    {
     "data": {
      "image/png": "[encoded data removed]",
      "text/plain": [
       "<Figure size 640x480 with 1 Axes>"
      ]
     },
     "metadata": {},
     "output_type": "display_data"
    }
   ],
   "source": [
    "from matplotlib import pyplot as plt\n",
    "\n",
    "plt.imshow(C.array, interpolation=\"nearest\")"
   ]
  },
  {
   "cell_type": "markdown",
   "id": "0b981d3b",
   "metadata": {},
   "source": [
    "Now we can plot for example the strengths of connections from an exemplary location\n",
    "NOTE: This is long-range connectivity only, so we do not expect it to peak around the source location"
   ]
  },
  {
   "cell_type": "code",
   "execution_count": 7,
   "id": "ef425d30",
   "metadata": {},
   "outputs": [
    {
     "data": {
      "text/plain": [
       "Text(0, 0.5, 'um')"
      ]
     },
     "execution_count": 7,
     "metadata": {},
     "output_type": "execute_result"
    },
    {
     "data": {
      "image/png": "[encoded data removed]",
      "text/plain": [
       "<Figure size 250x250 with 1 Axes>"
      ]
     },
     "metadata": {},
     "output_type": "display_data"
    }
   ],
   "source": [
    "plot_divider = 5\n",
    "example_idx = 7\n",
    "exemplary_loc = C.vertices.iloc[example_idx]\n",
    "\n",
    "ax = plt.figure(figsize=(2.5, 2.5)).gca()\n",
    "\n",
    "for i, value in enumerate(C.array[example_idx, :]):\n",
    "    col = [numpy.minimum(numpy.log10(value + 1) / plot_divider, 1), 0, 0]\n",
    "    loc = C.vertices.iloc[i]\n",
    "    ax.plot(loc[\"grid-x\"], loc[\"grid-y\"], color=col, ms=30, marker=\"h\")\n",
    "\n",
    "ax.plot(exemplary_loc[\"grid-x\"], exemplary_loc[\"grid-y\"], marker='o', color=\"green\")\n",
    "ax.set_frame_on(False)\n",
    "ax.set_xlabel(\"um\"); ax.set_ylabel(\"um\")"
   ]
  },
  {
   "cell_type": "markdown",
   "id": "0318eca5",
   "metadata": {},
   "source": [
    "Neat! Even cooler: Both outgoing and incoming connectivity.\n",
    "We encode outgoing strength in the \"red\" channel, incoming in the \"blue\" channel."
   ]
  },
  {
   "cell_type": "code",
   "execution_count": 8,
   "id": "30f3fa7a",
   "metadata": {},
   "outputs": [
    {
     "data": {
      "text/plain": [
       "Text(0, 0.5, 'um')"
      ]
     },
     "execution_count": 8,
     "metadata": {},
     "output_type": "execute_result"
    },
    {
     "data": {
      "image/png": "[encoded data removed]",
      "text/plain": [
       "<Figure size 250x250 with 1 Axes>"
      ]
     },
     "metadata": {},
     "output_type": "display_data"
    }
   ],
   "source": [
    "plot_divider = 5\n",
    "example_idx = 7\n",
    "exemplary_loc = C.vertices.iloc[example_idx]\n",
    "\n",
    "ax = plt.figure(figsize=(2.5, 2.5)).gca()\n",
    "\n",
    "for i in range(len(C)):\n",
    "    value_row = C.array[example_idx, i]\n",
    "    value_col = C.array[i, example_idx]\n",
    "    col = [numpy.minimum(numpy.log10(value_row + 1) / plot_divider, 1), 0, \n",
    "           numpy.minimum(numpy.log10(value_col + 1) / plot_divider, 1)]\n",
    "    loc = C.vertices.iloc[i]\n",
    "    ax.plot(loc[\"grid-x\"], loc[\"grid-y\"], color=col, ms=30, marker=\"h\")\n",
    "\n",
    "ax.plot(exemplary_loc[\"grid-x\"], exemplary_loc[\"grid-y\"], marker='o', color=\"green\")\n",
    "ax.set_frame_on(False)\n",
    "ax.set_xlabel(\"um\"); ax.set_ylabel(\"um\")"
   ]
  },
  {
   "cell_type": "markdown",
   "id": "85d8b80f",
   "metadata": {},
   "source": [
    "Another example: Total incoming strength.\n",
    "\n",
    "Note: Not using logarithmic color scale, unlike above"
   ]
  },
  {
   "cell_type": "code",
   "execution_count": 9,
   "id": "d3b92995",
   "metadata": {},
   "outputs": [
    {
     "data": {
      "text/plain": [
       "Text(0, 0.5, 'um')"
      ]
     },
     "execution_count": 9,
     "metadata": {},
     "output_type": "execute_result"
    },
    {
     "data": {
      "image/png": "[encoded data removed]",
      "text/plain": [
       "<Figure size 250x250 with 1 Axes>"
      ]
     },
     "metadata": {},
     "output_type": "display_data"
    }
   ],
   "source": [
    "plot_divider = 2E4\n",
    "\n",
    "ax = plt.figure(figsize=(2.5, 2.5)).gca()\n",
    "\n",
    "for i, value in enumerate(C.array.sum(axis=0)):\n",
    "    col = [numpy.minimum(value / plot_divider, 1), 0, 0]\n",
    "    loc = C.vertices.iloc[i]\n",
    "    ax.plot(loc[\"grid-x\"], loc[\"grid-y\"], color=col, ms=30, marker=\"h\")\n",
    "\n",
    "ax.set_frame_on(False)\n",
    "ax.set_xlabel(\"um\"); ax.set_ylabel(\"um\")\n"
   ]
  }
 ],
 "metadata": {
  "kernelspec": {
   "display_name": "Python 3 (ipykernel)",
   "language": "python",
   "name": "python3"
  },
  "language_info": {
   "codemirror_mode": {
    "name": "ipython",
    "version": 3
   },
   "file_extension": ".py",
   "mimetype": "text/x-python",
   "name": "python",
   "nbconvert_exporter": "python",
   "pygments_lexer": "ipython3",
   "version": "3.8.10"
  }
 },
 "nbformat": 4,
 "nbformat_minor": 5
}
